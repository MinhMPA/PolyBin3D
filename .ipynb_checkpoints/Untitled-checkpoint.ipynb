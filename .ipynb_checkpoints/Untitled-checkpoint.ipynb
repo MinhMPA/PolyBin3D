{
 "cells": [
  {
   "cell_type": "code",
   "execution_count": 1,
   "id": "c1f09fb5-5f23-4fe7-82c0-0eccfd4e72d7",
   "metadata": {},
   "outputs": [
    {
     "name": "stdout",
     "output_type": "stream",
     "text": [
      "%pylab is deprecated, use %matplotlib inline and import the required libraries.\n",
      "Populating the interactive namespace from numpy and matplotlib\n"
     ]
    }
   ],
   "source": [
    "%pylab inline"
   ]
  },
  {
   "cell_type": "markdown",
   "id": "e3a5c73e-5072-45cb-9973-17142c0e7d31",
   "metadata": {},
   "source": [
    "### Settings"
   ]
  },
  {
   "cell_type": "code",
   "execution_count": 10,
   "id": "6302c688-a00f-4f8b-a5f5-3e0c94446d1c",
   "metadata": {},
   "outputs": [],
   "source": [
    "box = 1000\n",
    "grid = 256\n",
    "\n",
    "# Power Spectrum\n",
    "from classy import Class\n",
    "cosmo = Class()\n",
    "cosmo.set({'output':'mPk'})\n",
    "cosmo.compute()\n",
    "k_theory = np.logspace(-3,1,100)\n",
    "Pk_theory = np.asarray([cosmo.h()**3*cosmo.pk_lin(k*cosmo.h(),0) for k in k_theory])"
   ]
  },
  {
   "cell_type": "markdown",
   "id": "df0db946-5fe1-441f-aa1d-fb64897be22b",
   "metadata": {},
   "source": [
    "### PolyBin3D"
   ]
  },
  {
   "cell_type": "code",
   "execution_count": 8,
   "id": "5686d2ca-8b1a-41d6-9a0e-7fe7ff2d673a",
   "metadata": {},
   "outputs": [
    {
     "name": "stdout",
     "output_type": "stream",
     "text": [
      "\n",
      "# Dimensions: [1.00e+03, 1.00e+03, 1.00e+03] Mpc/h\n",
      "# Center: [0.00e+00, 0.00e+00, 0.00e+00] Mpc/h\n",
      "# Line-of-sight: global\n",
      "# Fourier-space grid: [256, 256, 256]\n",
      "# Fundamental frequency: [0.0063, 0.0063, 0.0063] h/Mpc\n",
      "# Nyquist frequency: [0.804, 0.804, 0.804] h/Mpc\n",
      "# Pixel window: none\n",
      "# Using MKL backend\n",
      "\n",
      "Binning: 38 bins in [0.010, 0.390] h/Mpc\n",
      "l-max: 4\n",
      "Mask: constant\n",
      "check we use all the utils functions\n"
     ]
    },
    {
     "ename": "NameError",
     "evalue": "name 'density_fkp' is not defined",
     "output_type": "error",
     "traceback": [
      "\u001b[0;31m---------------------------------------------------------------------------\u001b[0m",
      "\u001b[0;31mNameError\u001b[0m                                 Traceback (most recent call last)",
      "Cell \u001b[0;32mIn[8], line 21\u001b[0m\n\u001b[1;32m     18\u001b[0m pspec \u001b[38;5;241m=\u001b[39m pb\u001b[38;5;241m.\u001b[39mPSpec(base, k_edges, lmax \u001b[38;5;241m=\u001b[39m lmax, applySinv \u001b[38;5;241m=\u001b[39m \u001b[38;5;28;01mNone\u001b[39;00m, mask \u001b[38;5;241m=\u001b[39m \u001b[38;5;28;01mNone\u001b[39;00m)\n\u001b[1;32m     20\u001b[0m \u001b[38;5;66;03m# Compute the ideal power spectrum\u001b[39;00m\n\u001b[0;32m---> 21\u001b[0m pk \u001b[38;5;241m=\u001b[39m pspec\u001b[38;5;241m.\u001b[39mPk_ideal(\u001b[43mdensity_fkp\u001b[49m, discreteness_correction \u001b[38;5;241m=\u001b[39m \u001b[38;5;28;01mTrue\u001b[39;00m)\n\u001b[1;32m     23\u001b[0m \u001b[38;5;66;03m## Print number of FFTs used for diagnostics\u001b[39;00m\n\u001b[1;32m     24\u001b[0m \u001b[38;5;28mprint\u001b[39m(\u001b[38;5;124m\"\u001b[39m\u001b[38;5;130;01m\\n\u001b[39;00m\u001b[38;5;124mComputations complete using \u001b[39m\u001b[38;5;132;01m%d\u001b[39;00m\u001b[38;5;124m forward and \u001b[39m\u001b[38;5;132;01m%d\u001b[39;00m\u001b[38;5;124m reverse FFTs\u001b[39m\u001b[38;5;124m\"\u001b[39m\u001b[38;5;241m%\u001b[39m(base\u001b[38;5;241m.\u001b[39mn_FFTs_forward, base\u001b[38;5;241m.\u001b[39mn_FFTs_reverse))\n",
      "\u001b[0;31mNameError\u001b[0m: name 'density_fkp' is not defined"
     ]
    }
   ],
   "source": [
    "import scipy\n",
    "import PolyBin3D as pb # the main code\n",
    "\n",
    "# Load the PolyBin3D class\n",
    "base = pb.PolyBin3D([box,box,box], [grid,grid,grid], None, \n",
    "                    boxcenter=[0,0,0], # center of the simulation volume\n",
    "                    pixel_window='none', # pixel window function\n",
    "                    backend='mkl', # backend for performing FFTs ('fftw' or 'mkl' for cpu, 'jax' for gpu)\n",
    "                    nthreads=None, # number of CPU threads\n",
    "                    sightline='global', # line-of-sight [global = z-axis, local = relative to pair]\n",
    "                    )\n",
    "\n",
    "# Create GRF\n",
    "density = base.generate_data(seed=42)\n",
    "\n",
    "# Define some k-bins and ell_max\n",
    "k_edges = np.arange(0.01,0.4,0.01)\n",
    "lmax = 4\n",
    "\n",
    "# Load the power spectrum class\n",
    "pspec = pb.PSpec(base, k_edges, lmax = lmax, applySinv = None, mask = None)\n",
    "\n",
    "# Compute the ideal power spectrum\n",
    "pk = pspec.Pk_ideal(density_fkp, discreteness_correction = True)\n",
    "\n",
    "## Print number of FFTs used for diagnostics\n",
    "print(\"\\nComputations complete using %d forward and %d reverse FFTs\"%(base.n_FFTs_forward, base.n_FFTs_reverse))"
   ]
  },
  {
   "cell_type": "code",
   "execution_count": null,
   "id": "94401223-7892-4d27-a37a-aab8e029b9b2",
   "metadata": {},
   "outputs": [],
   "source": []
  }
 ],
 "metadata": {
  "kernelspec": {
   "display_name": "mpivenv2",
   "language": "python",
   "name": "mpivenv2"
  },
  "language_info": {
   "codemirror_mode": {
    "name": "ipython",
    "version": 3
   },
   "file_extension": ".py",
   "mimetype": "text/x-python",
   "name": "python",
   "nbconvert_exporter": "python",
   "pygments_lexer": "ipython3",
   "version": "3.9.15"
  }
 },
 "nbformat": 4,
 "nbformat_minor": 5
}
